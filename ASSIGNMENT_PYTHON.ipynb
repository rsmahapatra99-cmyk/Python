{
  "nbformat": 4,
  "nbformat_minor": 0,
  "metadata": {
    "colab": {
      "provenance": []
    },
    "kernelspec": {
      "name": "python3",
      "display_name": "Python 3"
    },
    "language_info": {
      "name": "python"
    }
  },
  "cells": [
    {
      "cell_type": "markdown",
      "source": [
        "1. What is Python, and why is it popular?\n",
        " - Python is a high-level, interpreted programming language known for its readability, simplicity, and versatility.\n",
        "\n",
        " Its Popular-\n",
        " -Easy to Learn and Use\n",
        "\n",
        " -Massive Community and Support\n",
        "\n",
        " -Versatile\n",
        "\n",
        " -Dynamic Types\n",
        "\n",
        " -Multiple paridgm objectoriented programming, functional programming and procedural programming\n",
        "\n",
        " - Platform Independent-Python code runs on Windows, macOS, Linux, etc., without modification.\n",
        "\n",
        " - Strong Integration-Can integrate easily with C/C++, Java, .NET, and other technologies."
      ],
      "metadata": {
        "id": "jUVT3C7EZsbe"
      }
    },
    {
      "cell_type": "markdown",
      "source": [
        "2.What is an interpreter in Python?\n",
        "- An interpreter in Python is a program that reads and executes Python code line by line, translating it into machine instructions at runtime.\n",
        "ex- Python\n",
        "    Java\n",
        "    Java Script\n",
        "- Execution- Reads and execute the code\n",
        "\n",
        "-Speed-Slow\n",
        "\n",
        "-Error handling- Stops the file if you do in error\n",
        "\n",
        "-When you run a Python script:\n",
        "The Python interpreter reads your code.\n",
        "It converts it into bytecode (an intermediate form).\n",
        "The bytecode is then executed by the Python Virtual Machine\n"
      ],
      "metadata": {
        "id": "UcpIcgQzIEx_"
      }
    },
    {
      "cell_type": "markdown",
      "source": [
        "3. What are pre-defined keywords in Python?\n",
        "- Keywords are pre-defined words that hold a specific meaning and have specific purpose in python\n",
        "\n",
        "-Characteristics of Python Keywords:\n",
        "\n",
        "Case-sensitive\n",
        "\n",
        "Always predefined and fixed in meaning\n",
        "\n",
        "Cannot be redefined by the programmer\n",
        "\n",
        "Help define the logic and flow of a Python program\n",
        "\n",
        "Example- True,False, and, if, else, elif, as etc.."
      ],
      "metadata": {
        "id": "67CPoPbbKSuz"
      }
    },
    {
      "cell_type": "markdown",
      "source": [
        "4. Can keywords be used as variable names?\n",
        "\n",
        "No, keywords cannot be used as variable names in Python.\n",
        "\n",
        "- Python reserves these keywords because they are part of the language's syntax. If you try to use a keyword as a variable name, you'll get a SyntaxError."
      ],
      "metadata": {
        "id": "NgWqZ1wHMV-D"
      }
    },
    {
      "cell_type": "markdown",
      "source": [
        "5. What is mutability in Python ?\n",
        "\n",
        "- Mutability in Python refers to whether an object’s value can be changed after it’s created.\n",
        "Example- list, dict, set\n"
      ],
      "metadata": {
        "id": "iey93IMVNhT8"
      }
    },
    {
      "cell_type": "markdown",
      "source": [
        "6. Why are lists mutable, but tuples are immutable?\n",
        "\n",
        "- The difference comes down to design choices in Python's data model and how these types are implemented internally.\n",
        "\n",
        "A. List are Muatable-\n",
        "   Purpose of Lists:\n",
        "\n",
        "Lists are designed to hold collections of items that may change.\n",
        "\n",
        "Useful when you need to add, remove, or modify elements.\n",
        "\n",
        "  Internal Design:\n",
        "\n",
        "Lists are implemented with dynamic arrays, allowing in-place modifications.\n",
        "\n",
        "Memory is allocated with extra room so they can grow/shrink efficiently.\n",
        "\n",
        "B. Tuples Are Immutable-\n",
        "   Purpose of Tuples:\n",
        "\n",
        "Tuples are meant to be fixed collections of values.\n",
        "\n",
        "Often used for data integrity, like coordinates or database records.\n",
        "\n",
        "Can be used as dictionary keys or in sets (only immutable types are allowed).\n",
        "\n",
        "  Internal Design:\n",
        "\n",
        "Tuples are optimized for performance and memory efficiency.\n",
        "\n",
        "Because they don’t change, Python can:\n",
        "\n",
        "Store them more compactly\n",
        "\n",
        "Cache or hash them for faster access"
      ],
      "metadata": {
        "id": "gv2V1UiTPV_t"
      }
    },
    {
      "cell_type": "markdown",
      "source": [
        "7. What is the difference between “==” and “is” operators in Python?\n",
        "\n",
        "== → Equality Operator\n",
        "\n",
        "Checks if two variables have the same value.\n",
        "\n",
        "It does not care if they are the same object in memory.\n",
        "\n",
        "is → Identity Operator\n",
        "\n",
        "Checks if two variables refer to the exact same object in memory (same memory address).\n",
        "\n",
        "Even if two objects look the same (==), they might not be the same object.\n",
        "\n",
        "When to Use Which?\n",
        "\n",
        "Use == when comparing values.\n",
        "\n",
        "Use is when checking for object identity, like:\n",
        "\n",
        "if x is None:\n",
        "\n",
        "Singleton comparisons (e.g., with True, False, None)"
      ],
      "metadata": {
        "id": "lu6EIRfeQuSV"
      }
    },
    {
      "cell_type": "markdown",
      "source": [
        "8. What are logical operators in Python ?\n",
        "- Logical operators in Python are used to combine conditional (boolean) statements and return a result of either True or False.\n",
        "\n",
        "They are most commonly used in if statements and expressions that involve multiple conditions.\n",
        "\n",
        "Python's 3 Logical Operators:\n",
        "\n",
        "and\t- Logical AND\t- Returns True if both conditions are True- True and True → True\n",
        "\n",
        "or- Logical OR- Returns True if at least one condition is True- True or False → True\n",
        "\n",
        "not- Logical NOT\tReverses the result:- True → False, False → True\tnot True → False\n",
        "\n",
        "Example and operator-\n",
        "\n",
        "   x = 5\n",
        "\n",
        "   print(x > 2 and x < 10)  # True (both are True)\n",
        "\n",
        "Example or operator-\n",
        "\n",
        "x = 5\n",
        "\n",
        "print(x < 3 or x < 10)   # True (second condition is True)\n",
        "\n",
        "Example not operator\n",
        "\n",
        "x = True\n",
        "\n",
        "print(not x)             # False (opposite of True)"
      ],
      "metadata": {
        "id": "K8bqCiFyRrUv"
      }
    },
    {
      "cell_type": "markdown",
      "source": [
        "9. What is type casting in Python?\n",
        "\n",
        "- Type casting in Python means converting a value from one data type to another.\n",
        "\n",
        "For example:\n",
        "\n",
        "Converting a string to an integer\n",
        "\n",
        "An integer to a float\n",
        "\n",
        "A float to a string, etc.\n",
        "\n",
        "Python supports both explicit and implicit type casting.\n",
        "\n",
        "Its Two types-\n",
        "\n",
        " a. Explicit Type Casting (Manual)- You manually convert a value using built-in functions\n",
        "\n",
        " b. Implicit Type Casting (Automatic)- python automatically converts data types during operations when appropriate."
      ],
      "metadata": {
        "id": "tRr6kC20USiG"
      }
    },
    {
      "cell_type": "markdown",
      "source": [
        "10. What is the difference between implicit and explicit type casting.\n",
        "\n",
        "- Type casting means converting a value from one data type to another.\n",
        "\n",
        "- Python supports two kinds of type casting:\n",
        "\n",
        " A. Explicit Type Casting (Manual Conversion)\n",
        "\n",
        "You write the code to convert the data type.\n",
        "\n",
        "Done using built-in functions like int(), float(), str(), etc.\n",
        "\n",
        "Used when you know the value can be safely converted.\n",
        "\n",
        "EXAMPLE-\n",
        "\n",
        "x = \"10\"\n",
        "\n",
        "y = int(x) # Convert string to integer manually\n",
        "\n",
        "print(y + 5)    # Output: 15\n",
        "\n",
        "B. Implicit Type Casting (Automatic Conversion)\n",
        "\n",
        "Python automatically converts the data type during an operation.\n",
        "\n",
        "Happens when combining values of different, but compatible types.\n",
        "\n",
        "You don’t need to do anything manually.\n",
        "\n",
        " EXAMPLE-\n",
        "\n",
        "x = 5       # int\n",
        "\n",
        "y = 2.0     # float\n",
        "\n",
        "result = x + y   # Python converts int → float\n",
        "\n",
        "print(result)    # Output: 7.0"
      ],
      "metadata": {
        "id": "qz6rg8A6VjkZ"
      }
    },
    {
      "cell_type": "markdown",
      "source": [
        "11. What is the purpose of conditional statements in Python?\n",
        "\n",
        "- Conditional statements are used to make decisions in a Python program.\n",
        "\n",
        "- They allow your code to run different blocks of code based on whether a condition is True or False.\n",
        "\n",
        "- its used for-\n",
        "\n",
        "To control the flow of your program\n",
        "\n",
        "To respond to different situations or inputs\n",
        "\n",
        "To make your programs dynamic and interactive\n",
        "\n",
        "example-\n",
        "\n",
        "age = 18\n",
        "\n",
        "if age >= 18:\n",
        "\n",
        "    print(\"You can vote.\")\n",
        "else:\n",
        "\n",
        "    print(\"You are too young to vote.\")\n",
        "\n",
        "output- you can vote"
      ],
      "metadata": {
        "id": "qZc93EQHZmPK"
      }
    },
    {
      "cell_type": "markdown",
      "source": [
        "12. How does the elif statement work?\n",
        "- The elif statement in Python stands for \"else if\".\n",
        "\n",
        "It lets you check multiple conditions in sequence after an initial if.\n",
        "\n",
        "- Purpose of elif:\n",
        "\n",
        "To test additional conditions when the first if is false.\n",
        "\n",
        "Makes decision-making more efficient than writing multiple separate if statements.\n",
        "\n",
        "EXAMPLE-\n",
        "\n",
        "temperature = 25\n",
        "\n",
        "if temperature > 30:\n",
        "\n",
        "    print(\"It's hot.\")\n",
        "\n",
        "elif temperature > 20:\n",
        "\n",
        "    print(\"It's warm.\")\n",
        "\n",
        "elif temperature > 10:\n",
        "\n",
        "    print(\"It's cool.\")\n",
        "\n",
        "else:\n",
        "    print(\"It's cold.\")\n",
        "\n",
        "    OUTPUT- It's warm"
      ],
      "metadata": {
        "id": "ql_URDVWaOpl"
      }
    },
    {
      "cell_type": "markdown",
      "source": [
        "13. What is the difference between for and while loops?\n",
        "\n",
        "- Both for and while loops are used to repeat blocks of code, but they differ in how they control repetition.\n",
        "\n",
        "- for Loop — Used When You Know How Many Times to Loop\n",
        "\n",
        "Iterates over a sequence (like a list, string, range, etc.)\n",
        "\n",
        "Best when you know in advance how many times to loop.\n",
        "\n",
        "EXAMPLE-\n",
        "\n",
        "for i in range(5):\n",
        "\n",
        "    print(i)\n",
        "\n",
        "Output:\n",
        "\n",
        "0\n",
        "1\n",
        "2\n",
        "3\n",
        "4\n",
        "\n",
        "- while Loop — Used When You Don’t Know How Many Times to Loop\n",
        "\n",
        "Repeats as long as a condition is True\n",
        "\n",
        "Best for loops where the end depends on a condition\n",
        "\n",
        "EXAMPLE-\n",
        "\n",
        "i = 0\n",
        "\n",
        "while i < 5:\n",
        "\n",
        "    print(i)\n",
        "\n",
        "    i += 1\n",
        "Output:\n",
        "\n",
        "0\n",
        "1\n",
        "2\n",
        "3\n",
        "4"
      ],
      "metadata": {
        "id": "609QAJsZa9Ev"
      }
    },
    {
      "cell_type": "markdown",
      "source": [
        "14. Describe a scenario where a while loop is more suitable than a for loop?\n",
        "\n",
        "- Example Scenario: User Login System\n",
        "\n",
        "Imagine you’re building a simple program that asks the user for a password until they enter the correct one. You don’t know how many times the user will try, so you can't use a for loop with a fixed number of iterations.\n",
        "\n",
        " Code Example Using while:\n",
        "\n",
        "correct_password = \"python123\"\n",
        "\n",
        "user_input = \"\"\n",
        "\n",
        "while user_input != correct_password:\n",
        "\n",
        "    user_input = input(\"Enter password: \")\n",
        "\n",
        "print(\"Access granted!\")\n",
        "\n",
        "- Why while Is Better Here:\n",
        "\n",
        "The loop must run until a condition is met, not a specific number of times.\n",
        "\n",
        "A for loop is not appropriate because we don’t know how many attempts the user will need.\n",
        "\n",
        "The while loop keeps checking the condition (user_input != correct_password) on every iteration."
      ],
      "metadata": {
        "id": "t-aMuTjVcEbI"
      }
    },
    {
      "cell_type": "code",
      "source": [
        "1. # Write a Python program to print \"Hello, World!\n",
        "\n",
        "print(\"hello, world!\")\n"
      ],
      "metadata": {
        "colab": {
          "base_uri": "https://localhost:8080/"
        },
        "id": "uRyUuCr0Z6Ts",
        "outputId": "24eb939e-aba6-4fa0-fb99-5525e4275977"
      },
      "execution_count": null,
      "outputs": [
        {
          "output_type": "stream",
          "name": "stdout",
          "text": [
            "hello, world!\n"
          ]
        }
      ]
    },
    {
      "cell_type": "code",
      "source": [
        "2. # Write a Python program that displays your name and age\n",
        "\n",
        "name=\"Rajeswar\"\n",
        "age=26\n",
        "print(\"Name\",name)\n",
        "print(\"Age\",age)\n"
      ],
      "metadata": {
        "colab": {
          "base_uri": "https://localhost:8080/"
        },
        "id": "u1oGt6twud8K",
        "outputId": "930c4d37-6696-4331-af72-e97072ff80c2"
      },
      "execution_count": null,
      "outputs": [
        {
          "output_type": "stream",
          "name": "stdout",
          "text": [
            "Name Rajeswar\n",
            "Age 26\n"
          ]
        }
      ]
    },
    {
      "cell_type": "code",
      "source": [
        "3. #  Write code to print all the pre-defined keywords in Python using the keyword library\n",
        "import keyword\n",
        "print(\"python keywords:\", keyword.kwlist)"
      ],
      "metadata": {
        "colab": {
          "base_uri": "https://localhost:8080/"
        },
        "id": "GcShXwGzvXfN",
        "outputId": "c353026a-4639-4d9f-d20e-71133dba5eb3"
      },
      "execution_count": null,
      "outputs": [
        {
          "output_type": "stream",
          "name": "stdout",
          "text": [
            "python keywords: ['False', 'None', 'True', 'and', 'as', 'assert', 'async', 'await', 'break', 'class', 'continue', 'def', 'del', 'elif', 'else', 'except', 'finally', 'for', 'from', 'global', 'if', 'import', 'in', 'is', 'lambda', 'nonlocal', 'not', 'or', 'pass', 'raise', 'return', 'try', 'while', 'with', 'yield']\n"
          ]
        }
      ]
    },
    {
      "cell_type": "code",
      "source": [
        "4. # Write a program that checks if a given word is a Python keyword.\n",
        "import keyword\n",
        "word = input(\"Enter a word:\")\n",
        "if keyword.iskeyword(word):\n",
        "    print(f\"'{word}' is a Python keyword.\")\n",
        "else:\n",
        "    print(f\"'{word}' is not a Python keyword.\")"
      ],
      "metadata": {
        "colab": {
          "base_uri": "https://localhost:8080/"
        },
        "id": "ftmGeb3BwbBD",
        "outputId": "bb8af943-a826-4cda-9e67-a38ba1bbb3a2"
      },
      "execution_count": null,
      "outputs": [
        {
          "output_type": "stream",
          "name": "stdout",
          "text": [
            "Enter a word:while\n",
            "'while' is a Python keyword.\n"
          ]
        }
      ]
    },
    {
      "cell_type": "code",
      "source": [
        "5. #  Create a list and tuple in Python, and demonstrate how attempting to change an element works differently for each.\n",
        "\n",
        "# Creating a List\n",
        "my_list = [1, 2, 3]\n",
        "my_list[0] = 10\n",
        "print(\"Updated List:\",my_list)\n",
        "\n"
      ],
      "metadata": {
        "id": "YRafjS9sxpFO",
        "colab": {
          "base_uri": "https://localhost:8080/"
        },
        "outputId": "e80897b5-ce74-4bd8-bad7-e6b660f81dc6"
      },
      "execution_count": null,
      "outputs": [
        {
          "output_type": "stream",
          "name": "stdout",
          "text": [
            "Updated List: [10, 2, 3]\n"
          ]
        }
      ]
    },
    {
      "cell_type": "code",
      "source": [
        "# Creating a tuple\n",
        "my_tuple = (1,2,3)\n",
        "my_tuple(1) = 10\n",
        "print(\"updated list:\",my_tuple)"
      ],
      "metadata": {
        "colab": {
          "base_uri": "https://localhost:8080/",
          "height": 106
        },
        "id": "4rjhNrKxjOof",
        "outputId": "b0828423-a9c5-4503-c53f-0c8071be58d3"
      },
      "execution_count": null,
      "outputs": [
        {
          "output_type": "error",
          "ename": "SyntaxError",
          "evalue": "cannot assign to function call here. Maybe you meant '==' instead of '='? (ipython-input-2435984607.py, line 3)",
          "traceback": [
            "\u001b[0;36m  File \u001b[0;32m\"/tmp/ipython-input-2435984607.py\"\u001b[0;36m, line \u001b[0;32m3\u001b[0m\n\u001b[0;31m    my_tuple(1) = 10\u001b[0m\n\u001b[0m    ^\u001b[0m\n\u001b[0;31mSyntaxError\u001b[0m\u001b[0;31m:\u001b[0m cannot assign to function call here. Maybe you meant '==' instead of '='?\n"
          ]
        }
      ]
    },
    {
      "cell_type": "code",
      "source": [
        "6. #  Write a function to demonstrate the behavior of mutable and immutable arguments.\n",
        "\n",
        "def modify_arguments(immutable_arg, mutable_arg):\n",
        "    print(\"Inside function before modification:\")\n",
        "    print(f\"Immutable: {immutable_arg}, Mutable: {mutable_arg}\")\n",
        "\n",
        "    # Try to modify immutable argument (e.g., int)\n",
        "    immutable_arg += 10\n",
        "\n",
        "    # Try to modify mutable argument (e.g., list)\n",
        "    mutable_arg.append(100)\n",
        "\n",
        "    print(\"Inside function after modification:\")\n",
        "    print(f\"Immutable: {immutable_arg}, Mutable: {mutable_arg}\")\n",
        "\n",
        "num = 5\n",
        "\n",
        "nums = [1, 2, 3]\n",
        "\n",
        "print(\"Before function call:\")\n",
        "print(f\"num = {num}, nums = {nums}\")\n",
        "\n",
        "modify_arguments (num, nums)\n",
        "\n",
        "print(\"After function call:\")\n",
        "print(f\"num = {num}, nums = {nums}\")"
      ],
      "metadata": {
        "id": "wjZilRIImeO1",
        "colab": {
          "base_uri": "https://localhost:8080/"
        },
        "outputId": "325c4d1c-63cf-40d4-efde-66157ab1b99c"
      },
      "execution_count": 11,
      "outputs": [
        {
          "output_type": "stream",
          "name": "stdout",
          "text": [
            "Before function call:\n",
            "num = 5, nums = [1, 2, 3]\n",
            "Inside function before modification:\n",
            "Immutable: 5, Mutable: [1, 2, 3]\n",
            "Inside function after modification:\n",
            "Immutable: 15, Mutable: [1, 2, 3, 100]\n",
            "After function call:\n",
            "num = 5, nums = [1, 2, 3, 100]\n"
          ]
        }
      ]
    },
    {
      "cell_type": "code",
      "source": [
        "7. #  Write a program that performs basic arithmetic operations on two user-input numbers?\n",
        "\n",
        "def arithmetic_operations():\n",
        "\n",
        "    try:\n",
        "        num1 = float(input(\"Enter the first number: \"))\n",
        "        num2 = float(input(\"Enter the second number: \"))\n",
        "    except ValueError:\n",
        "        print(\"Invalid input. Please enter numeric values.\")\n",
        "        return\n",
        "\n",
        "    print(\"\\n--- Arithmetic Operations ---\")\n",
        "    print(f\"{num1} + {num2} = {num1 + num2}\")\n",
        "    print(f\"{num1} - {num2} = {num1 - num2}\")\n",
        "    print(f\"{num1} * {num2} = {num1 * num2}\")\n",
        "\n",
        "    if num2 != 0:\n",
        "        print(f\"{num1} / {num2} = {num1 / num2}\")\n",
        "        print(f\"{num1} % {num2} = {num1 % num2}\")\n",
        "    else:\n",
        "        print(\"Division and modulus by zero are not allowed.\")\n",
        "\n",
        "\n",
        "arithmetic_operations()\n"
      ],
      "metadata": {
        "colab": {
          "base_uri": "https://localhost:8080/"
        },
        "id": "m6_Ozp0hfK1Z",
        "outputId": "8907801a-468a-49bc-c6d3-1333b06e7773"
      },
      "execution_count": 13,
      "outputs": [
        {
          "output_type": "stream",
          "name": "stdout",
          "text": [
            "Enter the first number: 12\n",
            "Enter the second number: 4\n",
            "\n",
            "--- Arithmetic Operations ---\n",
            "12.0 + 4.0 = 16.0\n",
            "12.0 - 4.0 = 8.0\n",
            "12.0 * 4.0 = 48.0\n",
            "12.0 / 4.0 = 3.0\n",
            "12.0 % 4.0 = 0.0\n"
          ]
        }
      ]
    },
    {
      "cell_type": "code",
      "source": [
        "8. # Write a program to demonstrate the use of logical operators.\n",
        "\n",
        "def arithmetic_operations():\n",
        "    try:\n",
        "\n",
        "        num1 = float(input(\"Enter the first number: \"))\n",
        "        num2 = float(input(\"Enter the second number: \"))\n",
        "\n",
        "\n",
        "        print(\"\\nResults:\")\n",
        "        print(f\"{num1} + {num2} = {num1 + num2}\")\n",
        "        print(f\"{num1} - {num2} = {num1 - num2}\")\n",
        "        print(f\"{num1} * {num2} = {num1 * num2}\")\n",
        "\n",
        "        if num2 != 0:\n",
        "            print(f\"{num1} / {num2} = {num1 / num2}\")\n",
        "            print(f\"{num1} % {num2} = {num1 % num2}\")\n",
        "        else:\n",
        "            print(\"Division and modulus by zero are not allowed.\")\n",
        "\n",
        "    except ValueError:\n",
        "        print(\"Invalid input! Please enter numeric values.\")\n",
        "\n",
        "\n",
        "arithmetic_operations()\n"
      ],
      "metadata": {
        "colab": {
          "base_uri": "https://localhost:8080/"
        },
        "id": "dBHuFaKvjvuo",
        "outputId": "e367dc85-49cf-4461-d30c-1a4b0af10e65"
      },
      "execution_count": 14,
      "outputs": [
        {
          "output_type": "stream",
          "name": "stdout",
          "text": [
            "Enter the first number: 10\n",
            "Enter the second number: 3\n",
            "\n",
            "Results:\n",
            "10.0 + 3.0 = 13.0\n",
            "10.0 - 3.0 = 7.0\n",
            "10.0 * 3.0 = 30.0\n",
            "10.0 / 3.0 = 3.3333333333333335\n",
            "10.0 % 3.0 = 1.0\n"
          ]
        }
      ]
    },
    {
      "cell_type": "code",
      "source": [
        "9. #  Write a Python program to convert user input from string to integer, float, and boolean types?\n",
        "\n",
        "def convert_input():\n",
        "    user_input = input(\"Enter a value: \")\n",
        "\n",
        "\n",
        "    try:\n",
        "        int_value = int(user_input)\n",
        "        print(f\"Integer conversion: {int_value}\")\n",
        "    except ValueError:\n",
        "        print(\"Cannot convert to integer.\")\n",
        "\n",
        "\n",
        "    try:\n",
        "        float_value = float(user_input)\n",
        "        print(f\"Float conversion: {float_value}\")\n",
        "    except ValueError:\n",
        "        print(\"Cannot convert to float.\")\n",
        "\n",
        "\n",
        "    bool_value = bool(user_input.strip()) and user_input.strip().lower() != \"false\"\n",
        "    print(f\"Boolean conversion: {bool_value}\")\n",
        "\n",
        "\n",
        "convert_input()\n"
      ],
      "metadata": {
        "colab": {
          "base_uri": "https://localhost:8080/"
        },
        "id": "lV4ZCdEtkNZp",
        "outputId": "54c5d288-8468-4bb2-ed75-bbb17c1239d3"
      },
      "execution_count": 16,
      "outputs": [
        {
          "output_type": "stream",
          "name": "stdout",
          "text": [
            "Enter a value: 32\n",
            "Integer conversion: 32\n",
            "Float conversion: 32.0\n",
            "Boolean conversion: True\n"
          ]
        }
      ]
    },
    {
      "cell_type": "code",
      "source": [
        "def convert_input():\n",
        "    user_input = input(\"Enter a value: \")\n",
        "\n",
        "\n",
        "    try:\n",
        "        int_value = int(user_input)\n",
        "        print(f\"Integer conversion: {int_value}\")\n",
        "    except ValueError:\n",
        "        print(\"Cannot convert to integer.\")\n",
        "\n",
        "\n",
        "    try:\n",
        "        float_value = float(user_input)\n",
        "        print(f\"Float conversion: {float_value}\")\n",
        "    except ValueError:\n",
        "        print(\"Cannot convert to float.\")\n",
        "\n",
        "\n",
        "    bool_value = bool(user_input.strip()) and user_input.strip().lower() != \"false\"\n",
        "    print(f\"Boolean conversion: {bool_value}\")\n",
        "\n",
        "\n",
        "convert_input()\n"
      ],
      "metadata": {
        "colab": {
          "base_uri": "https://localhost:8080/"
        },
        "id": "8YKdXw0tkfyq",
        "outputId": "77694a12-583d-42ef-f438-0a88cb909ad7"
      },
      "execution_count": 17,
      "outputs": [
        {
          "output_type": "stream",
          "name": "stdout",
          "text": [
            "Enter a value: false\n",
            "Cannot convert to integer.\n",
            "Cannot convert to float.\n",
            "Boolean conversion: False\n"
          ]
        }
      ]
    },
    {
      "cell_type": "code",
      "source": [
        "def convert_input():\n",
        "    user_input = input(\"Enter a value: \")\n",
        "\n",
        "\n",
        "    try:\n",
        "        int_value = int(user_input)\n",
        "        print(f\"Integer conversion: {int_value}\")\n",
        "    except ValueError:\n",
        "        print(\"Cannot convert to integer.\")\n",
        "\n",
        "\n",
        "    try:\n",
        "        float_value = float(user_input)\n",
        "        print(f\"Float conversion: {float_value}\")\n",
        "    except ValueError:\n",
        "        print(\"Cannot convert to float.\")\n",
        "\n",
        "\n",
        "    bool_value = bool(user_input.strip()) and user_input.strip().lower() != \"false\"\n",
        "    print(f\"Boolean conversion: {bool_value}\")\n",
        "\n",
        "\n",
        "convert_input()\n"
      ],
      "metadata": {
        "colab": {
          "base_uri": "https://localhost:8080/"
        },
        "id": "zJUmeb19k1oY",
        "outputId": "875d8fb2-1c0d-474d-9eb9-aa455511d09b"
      },
      "execution_count": 18,
      "outputs": [
        {
          "output_type": "stream",
          "name": "stdout",
          "text": [
            "Enter a value: \" \"\n",
            "Cannot convert to integer.\n",
            "Cannot convert to float.\n",
            "Boolean conversion: True\n"
          ]
        }
      ]
    },
    {
      "cell_type": "code",
      "source": [
        "10. #  Write code to demonstrate type casting with list elements?\n",
        "\n",
        "# Create a list of strings\n",
        "string_list = [\"1\", \"2\", \"3\", \"4\", \"5\"]\n",
        "print(\"Original String List:\", string_list)\n",
        "\n",
        "# Type cast string list to integers\n",
        "int_list = [int(x) for x in string_list]\n",
        "print(\"List after type casting to integers:\", int_list)\n",
        "\n",
        "# Create a list of integers\n",
        "int_list = [1, 2, 3, 4, 5]\n",
        "print(\"Original Integer List:\", int_list)\n",
        "\n",
        "# Type cast integer list to strings\n",
        "string_list = [str(x) for x in int_list]\n",
        "print(\"List after type casting to strings:\", string_list)\n",
        "\n",
        "# Create a list of integers and floats\n",
        "mixed_list = [1, 2.5, 3, 4.7, 5]\n",
        "print(\"Original Mixed List:\", mixed_list)\n",
        "\n",
        "# Type cast mixed list to floats\n",
        "float_list = [float(x) for x in mixed_list]\n",
        "print(\"List after type casting to floats:\", float_list)\n"
      ],
      "metadata": {
        "colab": {
          "base_uri": "https://localhost:8080/"
        },
        "id": "5C7kzGHdk7vu",
        "outputId": "47b8fd7e-e2dc-4411-b49d-10fa62471a82"
      },
      "execution_count": 20,
      "outputs": [
        {
          "output_type": "stream",
          "name": "stdout",
          "text": [
            "Original String List: ['1', '2', '3', '4', '5']\n",
            "List after type casting to integers: [1, 2, 3, 4, 5]\n",
            "Original Integer List: [1, 2, 3, 4, 5]\n",
            "List after type casting to strings: ['1', '2', '3', '4', '5']\n",
            "Original Mixed List: [1, 2.5, 3, 4.7, 5]\n",
            "List after type casting to floats: [1.0, 2.5, 3.0, 4.7, 5.0]\n"
          ]
        }
      ]
    },
    {
      "cell_type": "code",
      "source": [
        "11 #  Write a program that checks if a number is positive, negative, or zero?\n",
        "\n",
        "def check_number(num):\n",
        "    if num > 0:\n",
        "        return \"Positive\"\n",
        "    elif num < 0:\n",
        "        return \"Negative\"\n",
        "    else:\n",
        "        return \"Zero\"\n",
        "\n",
        "# Test the function\n",
        "numbers = [5, -3, 0, 10, -1]\n",
        "for num in numbers:\n",
        "    print(f\"The number {num} is {check_number(num)}.\")"
      ],
      "metadata": {
        "colab": {
          "base_uri": "https://localhost:8080/"
        },
        "id": "XmE1xDvYlPMn",
        "outputId": "39c42b18-6bed-4889-aec2-b9db52a4c17e"
      },
      "execution_count": 21,
      "outputs": [
        {
          "output_type": "stream",
          "name": "stdout",
          "text": [
            "The number 5 is Positive.\n",
            "The number -3 is Negative.\n",
            "The number 0 is Zero.\n",
            "The number 10 is Positive.\n",
            "The number -1 is Negative.\n"
          ]
        }
      ]
    },
    {
      "cell_type": "code",
      "source": [
        "12. #  Write a for loop to print numbers from 1 to 10?\n",
        "\n",
        "for i in range(1, 11):\n",
        "    print(i)"
      ],
      "metadata": {
        "colab": {
          "base_uri": "https://localhost:8080/"
        },
        "id": "19K-jRJ1lxXG",
        "outputId": "df9f7c02-d162-439c-b7e6-87c72d3c28fc"
      },
      "execution_count": 22,
      "outputs": [
        {
          "output_type": "stream",
          "name": "stdout",
          "text": [
            "1\n",
            "2\n",
            "3\n",
            "4\n",
            "5\n",
            "6\n",
            "7\n",
            "8\n",
            "9\n",
            "10\n"
          ]
        }
      ]
    },
    {
      "cell_type": "code",
      "source": [
        "13. #  Write a Python program to find the sum of all even numbers between 1 and 50?\n",
        "\n",
        "def sum_even_numbers(start, end):\n",
        "    return sum(num for num in range(start, end + 1) if num % 2 == 0)\n",
        "\n",
        "# Test the function\n",
        "start = 1\n",
        "end = 50\n",
        "result = sum_even_numbers(start, end)\n",
        "print(f\"The sum of even numbers between {start} and {end} is: {result}\")"
      ],
      "metadata": {
        "colab": {
          "base_uri": "https://localhost:8080/"
        },
        "id": "rFPbSliPl8bP",
        "outputId": "accef2cc-10f9-4eed-961b-69dc1eb3a52e"
      },
      "execution_count": 24,
      "outputs": [
        {
          "output_type": "stream",
          "name": "stdout",
          "text": [
            "The sum of even numbers between 1 and 50 is: 650\n"
          ]
        }
      ]
    },
    {
      "cell_type": "code",
      "source": [
        "14. #  Write a program to reverse a string using a while loop?\n",
        "\n",
        "def reverse_string(s):\n",
        "    reversed_s = \"\"\n",
        "    i = len(s) - 1\n",
        "    while i >= 0:\n",
        "        reversed_s += s[i]\n",
        "        i -= 1\n",
        "    return reversed_s\n",
        "\n",
        "# Test the function\n",
        "original_string = \"Hello, World!\"\n",
        "reversed_string = reverse_string(original_string)\n",
        "print(f\"Original String: {original_string}\")\n",
        "print(f\"Reversed String: {reversed_string}\")"
      ],
      "metadata": {
        "colab": {
          "base_uri": "https://localhost:8080/"
        },
        "id": "uNj6yTU5mIIV",
        "outputId": "b370a5b3-c587-4d35-e1c9-83e292501b67"
      },
      "execution_count": 25,
      "outputs": [
        {
          "output_type": "stream",
          "name": "stdout",
          "text": [
            "Original String: Hello, World!\n",
            "Reversed String: !dlroW ,olleH\n"
          ]
        }
      ]
    },
    {
      "cell_type": "code",
      "source": [
        "15. #  Write a Python program to calculate the factorial of a number provided by the user using a while loop?\n",
        "\n",
        "def calculate_factorial(n):\n",
        "    if n < 0:\n",
        "        return \"Factorial is not defined for negative numbers.\"\n",
        "    factorial = 1\n",
        "    i = 1\n",
        "    while i <= n:\n",
        "        factorial *= i\n",
        "        i += 1\n",
        "    return factorial\n",
        "\n",
        "# Get user input\n",
        "num = int(input(\"Enter a non-negative integer: \"))\n",
        "\n",
        "# Calculate and print the factorial\n",
        "result = calculate_factorial(num)\n",
        "print(f\"The factorial of {num} is: {result}\")"
      ],
      "metadata": {
        "colab": {
          "base_uri": "https://localhost:8080/"
        },
        "id": "dWSd9qMwmoP8",
        "outputId": "1a7db062-3ed2-4d8a-e62b-a320d7c887b8"
      },
      "execution_count": 27,
      "outputs": [
        {
          "output_type": "stream",
          "name": "stdout",
          "text": [
            "Enter a non-negative integer: 5\n",
            "The factorial of 5 is: 120\n"
          ]
        }
      ]
    },
    {
      "cell_type": "code",
      "source": [],
      "metadata": {
        "id": "afiV49-Am0Fb"
      },
      "execution_count": null,
      "outputs": []
    }
  ]
}